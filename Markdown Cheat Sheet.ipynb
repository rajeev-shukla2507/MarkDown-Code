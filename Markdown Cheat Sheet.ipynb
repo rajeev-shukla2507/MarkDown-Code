{
 "cells": [
  {
   "cell_type": "markdown",
   "metadata": {},
   "source": [
    "# <font size=10 color=blue>Markdown Cheat Sheet</font>"
   ]
  },
  {
   "cell_type": "markdown",
   "metadata": {},
   "source": [
    "***\n",
    "**Headings:** Use #s followed by a blank space for notebook titles and section headings:\n",
    " # title \n",
    " ## major headings \n",
    " ### subheadings \n",
    " #### 4th level subheadings\n",
    " "
   ]
  },
  {
   "cell_type": "markdown",
   "metadata": {},
   "source": [
    "**Horizontal lines:** Use three asterisks: \n",
    " ***"
   ]
  },
  {
   "cell_type": "markdown",
   "metadata": {},
   "source": [
    "**Emphasis:** Use this code: Bold: __string__ or **string** \n",
    "\n",
    "__Bold__ <br> OR <br>\n",
    "**Bold**\n",
    "\n",
    "\n",
    "Use this code: Italic: _string_ or *string*\n",
    "\n",
    "_italics_ <br> OR <br>\n",
    "*italics*"
   ]
  },
  {
   "cell_type": "markdown",
   "metadata": {},
   "source": [
    "***\n",
    "**Indenting:** Use a greater than sign (>) and then a space, then type the text. Everything is indented until the next carriage return.\n",
    "\n",
    "> indent one tab\n",
    ">> indent 2 tabs"
   ]
  },
  {
   "cell_type": "markdown",
   "metadata": {},
   "source": [
    "***\n",
    "**Line breaks:** Sometimes markdown doesn’t make line breaks when you want them. Use this code for a manual line break: <br>.\n",
    "Break line <br> next line"
   ]
  },
  {
   "cell_type": "markdown",
   "metadata": {},
   "source": [
    "***\n",
    "**Monospace font:** Surround text with a back single quotation mark. (`) Use monospace for file path and file names and for text users enter or message text users see.\n",
    "\n",
    "`C:\\Users\\Rajeev\\Desktop\\Machine Learning Exercise\\machine-learning-ex1`"
   ]
  },
  {
   "cell_type": "markdown",
   "metadata": {},
   "source": [
    "***\n",
    "**Colors:** Use this code: <font color=blue|red|green|pink|yellow>Text</font> Not all markdown code works within a font tag, so review your colored text carefully!\n",
    "\n",
    "\n",
    "<font color=green>I am greeen</font> <br>\n",
    "<font color=blue> Iam blue and **Bold** </font>"
   ]
  },
  {
   "cell_type": "markdown",
   "metadata": {},
   "source": [
    "***\n",
    "**Bullets:** Use the dash sign (- ) with two spaces after it or a space, a dash, and a space ( - ), to create a circular bullet. To create a sub bullet, use a tab followed a dash and two spaces. You can also use an asterisk instead of a dash, and it works the same.\n",
    "\n",
    "-  (dash and space)Circular bullet\n",
    " - (space,dash and space) transparent Circular bullet\n",
    " "
   ]
  },
  {
   "cell_type": "markdown",
   "metadata": {},
   "source": []
  },
  {
   "cell_type": "markdown",
   "metadata": {},
   "source": []
  },
  {
   "cell_type": "markdown",
   "metadata": {},
   "source": []
  }
 ],
 "metadata": {
  "kernelspec": {
   "display_name": "Python 3",
   "language": "python",
   "name": "python3"
  },
  "language_info": {
   "codemirror_mode": {
    "name": "ipython",
    "version": 3
   },
   "file_extension": ".py",
   "mimetype": "text/x-python",
   "name": "python",
   "nbconvert_exporter": "python",
   "pygments_lexer": "ipython3",
   "version": "3.6.5"
  }
 },
 "nbformat": 4,
 "nbformat_minor": 2
}
