{
  "nbformat": 4,
  "nbformat_minor": 0,
  "metadata": {
    "colab": {
      "name": "MarkDown Cheat Sheet.ipynb",
      "version": "0.3.2",
      "provenance": [],
      "include_colab_link": true
    },
    "kernelspec": {
      "name": "python3",
      "display_name": "Python 3"
    }
  },
  "cells": [
    {
      "cell_type": "markdown",
      "metadata": {
        "id": "view-in-github",
        "colab_type": "text"
      },
      "source": [
        "<a href=\"https://colab.research.google.com/github/rajeev-shukla2507/MarkDown-Code/blob/master/MarkDown_Cheat_Sheet.ipynb\" target=\"_parent\"><img src=\"https://colab.research.google.com/assets/colab-badge.svg\" alt=\"Open In Colab\"/></a>"
      ]
    },
    {
      "metadata": {
        "id": "cFoalgPqWwiE",
        "colab_type": "text"
      },
      "cell_type": "markdown",
      "source": [
        "#Markdown Cheat Sheet"
      ]
    },
    {
      "metadata": {
        "id": "85IrB_qdX-rw",
        "colab_type": "text"
      },
      "cell_type": "markdown",
      "source": [
        "***\n",
        "**Headings:** Use #s followed by a blank space for notebook titles and section headings:\n",
        " # title \n",
        " ## major headings \n",
        " ### subheadings \n",
        " #### 4th level subheadings\n",
        " "
      ]
    },
    {
      "metadata": {
        "id": "_WGYz0U2ZGGg",
        "colab_type": "text"
      },
      "cell_type": "markdown",
      "source": [
        "**Horizontal lines:** Use three asterisks: \n",
        " ***"
      ]
    },
    {
      "metadata": {
        "id": "wC7NAYa4X-yq",
        "colab_type": "text"
      },
      "cell_type": "markdown",
      "source": [
        "**Emphasis:** Use this code: Bold: __string__ or **string** \n",
        "\n",
        "__Bold__ <br> OR <br>\n",
        "**Bold**\n",
        "\n",
        "\n",
        "Use this code: Italic: _string_ or *string*\n",
        "\n",
        "_italics_ <br> OR <br>\n",
        "*italics*\n",
        "\n"
      ]
    },
    {
      "metadata": {
        "id": "aWOlA6HhX-vf",
        "colab_type": "text"
      },
      "cell_type": "markdown",
      "source": [
        "***\n",
        "**Indenting:** Use a greater than sign (>) and then a space, then type the text. Everything is indented until the next carriage return.\n",
        "\n",
        "> indent one tab\n",
        ">> indent 2 tabs"
      ]
    },
    {
      "metadata": {
        "id": "On0AZq6ZX-13",
        "colab_type": "text"
      },
      "cell_type": "markdown",
      "source": [
        "***\n",
        "**Line breaks:** Sometimes markdown doesn’t make line breaks when you want them. Use this code for a manual line break: <br>.\n",
        "Break line <br> next line"
      ]
    },
    {
      "metadata": {
        "id": "MrixstWqZF47",
        "colab_type": "text"
      },
      "cell_type": "markdown",
      "source": [
        "***\n",
        "**Monospace font:** Surround text with a back single quotation mark. (`) Use monospace for file path and file names and for text users enter or message text users see.\n",
        "\n",
        "`C:\\Users\\Rajeev\\Desktop\\Machine Learning Exercise\\machine-learning-ex1`"
      ]
    },
    {
      "metadata": {
        "id": "IO-2X8P3ZF70",
        "colab_type": "text"
      },
      "cell_type": "markdown",
      "source": [
        "***\n",
        "**Colors:** Use this code: <font color=blue|red|green|pink|yellow>Text</font> Not all markdown code works within a font tag, so review your colored text carefully!\n",
        "\n",
        "\n",
        "<font color=green>I am greeen</font> <br>\n",
        "<font color=blue> Iam blue and **Bold** </font>"
      ]
    },
    {
      "metadata": {
        "id": "E6oItX8pZF-h",
        "colab_type": "text"
      },
      "cell_type": "markdown",
      "source": [
        "***\n",
        "**Bullets:** Use the dash sign (- ) with two spaces after it or a space, a dash, and a space ( - ), to create a circular bullet. To create a sub bullet, use a tab followed a dash and two spaces. You can also use an asterisk instead of a dash, and it works the same.\n",
        "\n",
        "-  (dash and space)Circular bullet\n",
        " - (space,dash and space) transparent Circular bullet\n",
        " "
      ]
    },
    {
      "metadata": {
        "id": "dqTUGBNZZGBO",
        "colab_type": "text"
      },
      "cell_type": "markdown",
      "source": [
        "***\n",
        "<a id=\"Numbered-List\"></a> \n",
        "**Numbered lists** <br>\n",
        "1. (Number dot and space)\n",
        "2. (Number dot tab)\n",
        "3.dgsdgsdf\n"
      ]
    },
    {
      "metadata": {
        "id": "oBgOb1hNboxN",
        "colab_type": "text"
      },
      "cell_type": "markdown",
      "source": [
        "***\n",
        "**Graphics:** You can attach image files directly to a notebook only in Markdown cells. Drag and drop your images to the Mardown cell to attach it to the notebook. To add images to other cell types, you can use only graphics that are hosted on the web. You can’t add captions for graphics at this time. Use this code: \n",
        "\n",
        "<img src=\"https://www.google.com/url?sa=i&source=images&cd=&cad=rja&uact=8&ved=2ahUKEwigh_bn6b3hAhWQbn0KHZnSBpMQjRx6BAgBEAU&url=https%3A%2F%2Fwww.bbc.co.uk%2Fnews%2Fuk-england-oxfordshire-45296729&psig=AOvVaw3LphTgZ4vaRL2g7GpYidd5&ust=1554721161591866\" alt=\"Alt text that describes the graphic\" title=\"Title text\" />"
      ]
    },
    {
      "metadata": {
        "id": "cbG9m3aOZGD_",
        "colab_type": "text"
      },
      "cell_type": "markdown",
      "source": [
        "***\n",
        "**Geometric shapes:** Use this code with a decimal or hex reference number from here: __[UTF-8 Geometric shapes](https://www.w3schools.com/charsets/ref_utf_geometric.asp)__\n",
        "\n",
        "&#9658;\n",
        "&#x25C9;"
      ]
    },
    {
      "metadata": {
        "id": "qmwzJ1eVZGJU",
        "colab_type": "text"
      },
      "cell_type": "markdown",
      "source": [
        "***\n",
        "**Internal links:** To link to a section, use this code: [section title](#section-title) For the text in the parentheses, replace spaces and special characters with a hyphen. Make sure to test all the links!\n",
        "\n",
        "Alternatively, you can add an ID for a section right above the section title. Use this code: <a id=\"section_ID\"></a> Make sure that the section_ID is unique within the notebook.\n",
        "\n",
        "Use this code for the link and make sure to test all the links! [Numbered-List](#Numbered-List)"
      ]
    },
    {
      "metadata": {
        "id": "zbqZL-eBZGMM",
        "colab_type": "text"
      },
      "cell_type": "markdown",
      "source": [
        "***\n",
        "**External links:** Use this code and test all links! \n",
        "__[Source](https://medium.com/ibm-data-science-experience/markdown-for-jupyter-notebooks-cheatsheet-386c05aeebed)__\n"
      ]
    },
    {
      "metadata": {
        "id": "lQK9mEBjZGUu",
        "colab_type": "text"
      },
      "cell_type": "markdown",
      "source": [
        "***"
      ]
    }
  ]
}